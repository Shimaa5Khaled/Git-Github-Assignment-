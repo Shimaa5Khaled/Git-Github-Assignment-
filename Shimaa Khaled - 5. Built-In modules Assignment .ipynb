{
 "cells": [
  {
   "cell_type": "markdown",
   "metadata": {},
   "source": [
    "> # Dear Epsilon Students, \n",
    "> # The More you practice The better You'll Be."
   ]
  },
  {
   "cell_type": "markdown",
   "metadata": {},
   "source": [
    "### Instructions: \n",
    "- Make sure that you understand this topics before you start.\n",
    "- If you found something hard to do, try and try then google it and finally ask someone. \n",
    "- You can divide this work into daily tasks so that you do not feel pressure.\n",
    "- After you finish, go to model answer and rate yourself. \n",
    "- If you find something ambiguous, Try to make a hypothesis to solve a problem. "
   ]
  },
  {
   "cell_type": "markdown",
   "metadata": {},
   "source": [
    "### Question classification: \n",
    "- Green is level 1 \n",
    "- Orange is level 2 \n",
    "- Red is level 3 "
   ]
  },
  {
   "cell_type": "markdown",
   "metadata": {},
   "source": [
    "# <center> Let's start 💪 </center> "
   ]
  },
  {
   "cell_type": "markdown",
   "metadata": {},
   "source": [
    "## <p style=\"color:green;\">Q.01 Write a Python program to select a random element from a list. Use random.choice()</p>\n"
   ]
  },
  {
   "cell_type": "code",
   "execution_count": 1,
   "metadata": {},
   "outputs": [
    {
     "name": "stdout",
     "output_type": "stream",
     "text": [
      "The random choice is  khaled\n"
     ]
    }
   ],
   "source": [
    "import random  \n",
    "\n",
    "my_list = ['shimaa','khaled','yousef']\n",
    "\n",
    "random_element = random.choice(my_list)\n",
    "\n",
    "print(\"The random choice is \" , random_element)"
   ]
  },
  {
   "cell_type": "markdown",
   "metadata": {},
   "source": [
    "## <p style=\"color:green;\">Q.02 Write a Python program to shuffle the elements of a given list. Use random.shuffle()\n",
    "</p>"
   ]
  },
  {
   "cell_type": "code",
   "execution_count": 7,
   "metadata": {},
   "outputs": [
    {
     "name": "stdout",
     "output_type": "stream",
     "text": [
      "The random shuffle  [3, 1, 5, 4, 2]\n"
     ]
    }
   ],
   "source": [
    "import random  \n",
    "\n",
    "my_list = [1, 2, 3, 4, 5]\n",
    "\n",
    "\n",
    "random.shuffle(my_list)\n",
    "\n",
    "print(\"The random shuffle \" , my_list )\n",
    "\n",
    "\n",
    "\n"
   ]
  },
  {
   "cell_type": "markdown",
   "metadata": {},
   "source": [
    "## <p style=\"color:orange;\">Q.03 Write a Python program to print yesterday, today, tomorrow.</p>"
   ]
  },
  {
   "cell_type": "code",
   "execution_count": 9,
   "metadata": {},
   "outputs": [
    {
     "name": "stdout",
     "output_type": "stream",
     "text": [
      "yesterday:  2024-12-20\n",
      "today : 2024-12-21\n",
      "tomorrow : 2024-12-22\n"
     ]
    }
   ],
   "source": [
    "import datetime  \n",
    "\n",
    "today = datetime.date.today()\n",
    "\n",
    "yesterday = today - datetime.timedelta(days=1)\n",
    "\n",
    "tomorrow = today + datetime.timedelta(days=1)\n",
    "\n",
    "print(\"yesterday: \", yesterday)\n",
    "print(\"today :\" , today)\n",
    "print(\"tomorrow :\",tomorrow)\n"
   ]
  },
  {
   "cell_type": "markdown",
   "metadata": {},
   "source": [
    "## <p style=\"color:red;\">Q.04 Write a Python program to print next 5 days starting from today. </p>"
   ]
  },
  {
   "cell_type": "code",
   "execution_count": 13,
   "metadata": {},
   "outputs": [
    {
     "name": "stdout",
     "output_type": "stream",
     "text": [
      "Day1: 2024-12-22\n",
      "Day2: 2024-12-23\n",
      "Day3: 2024-12-24\n",
      "Day4: 2024-12-25\n",
      "Day5: 2024-12-26\n"
     ]
    }
   ],
   "source": [
    "import datetime  \n",
    "today = datetime.date.today()\n",
    "\n",
    "\n",
    "for i in range(1, 6):\n",
    "    next_day = today + datetime.timedelta(days=i)\n",
    "\n",
    "    # print (\"Day :\" , i (next_day))\n",
    "    print(f\"Day{i}: {next_day}\")\n"
   ]
  },
  {
   "cell_type": "markdown",
   "metadata": {},
   "source": [
    "## <p style=\"color:green;\">Q.05 Write a Python program to get current time in milliseconds in Python.</p>"
   ]
  },
  {
   "cell_type": "code",
   "execution_count": 15,
   "metadata": {},
   "outputs": [
    {
     "name": "stdout",
     "output_type": "stream",
     "text": [
      "current_time_milliseconds 1734736302373\n"
     ]
    }
   ],
   "source": [
    "import time  \n",
    "\n",
    "current_time_seconds = time.time()\n",
    "\n",
    "current_time_milliseconds = int(current_time_seconds * 1000)\n",
    "\n",
    "print(\"current_time_milliseconds\" , current_time_milliseconds)\n"
   ]
  },
  {
   "cell_type": "markdown",
   "metadata": {},
   "source": [
    "## <p style=\"color:green;\">Q.06 Write a Python program to get the name of current working directory.</p>\n"
   ]
  },
  {
   "cell_type": "code",
   "execution_count": 18,
   "metadata": {},
   "outputs": [
    {
     "name": "stdout",
     "output_type": "stream",
     "text": [
      "current_directory : e:\\Epsilon\\Git&Github(12)\n"
     ]
    }
   ],
   "source": [
    "import os  \n",
    "\n",
    "current_directory = os.getcwd()\n",
    "\n",
    "print(\"current_directory :\", current_directory)\n",
    "\n"
   ]
  },
  {
   "cell_type": "markdown",
   "metadata": {},
   "source": [
    "# <center> Thank's for your effort ❤️ </center> "
   ]
  }
 ],
 "metadata": {
  "kernelspec": {
   "display_name": "my_env",
   "language": "python",
   "name": "python3"
  },
  "language_info": {
   "codemirror_mode": {
    "name": "ipython",
    "version": 3
   },
   "file_extension": ".py",
   "mimetype": "text/x-python",
   "name": "python",
   "nbconvert_exporter": "python",
   "pygments_lexer": "ipython3",
   "version": "3.10.15"
  }
 },
 "nbformat": 4,
 "nbformat_minor": 4
}
